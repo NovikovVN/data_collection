{
 "cells": [
  {
   "cell_type": "code",
   "execution_count": 1,
   "metadata": {},
   "outputs": [],
   "source": [
    "import ast\n",
    "import pandas as pd\n",
    "from pymongo import MongoClient\n",
    "from selenium import webdriver\n",
    "# from selenium.webdriver.common.keys import Keys \n",
    "from time import sleep\n",
    "# from selenium.webdriver.common.by import By\n",
    "# from selenium.webdriver.support.ui import WebDriverWait\n",
    "# from selenium.webdriver.support import expected_conditions as EC"
   ]
  },
  {
   "cell_type": "markdown",
   "metadata": {},
   "source": [
    "**2). Написать программу, которая собирает «Хиты продаж» с сайта техники mvideo и складывает данные в БД. Магазины можно выбрать свои. Главный критерий выбора: динамически загружаемые товары**"
   ]
  },
  {
   "cell_type": "code",
   "execution_count": 2,
   "metadata": {},
   "outputs": [],
   "source": [
    "client = MongoClient('mongodb://127.0.0.1:27017')\n",
    "\n",
    "db_name = 'litres'"
   ]
  },
  {
   "cell_type": "code",
   "execution_count": 3,
   "metadata": {},
   "outputs": [],
   "source": [
    "db_list = client.list_database_names()\n",
    "if db_name in db_list:\n",
    "    client.drop_database(db_name)"
   ]
  },
  {
   "cell_type": "code",
   "execution_count": 4,
   "metadata": {},
   "outputs": [],
   "source": [
    "db = client[db_name]\n",
    "docs = db.docs"
   ]
  },
  {
   "cell_type": "code",
   "execution_count": 5,
   "metadata": {},
   "outputs": [],
   "source": [
    "options = webdriver.ChromeOptions()\n",
    "options.binary_location = r'C:/Program Files (x86)/Google/Chrome/Application/chrome.exe'\n",
    "chrome_driver_binary = r\"C:/Users/TOSHIBA/Downloads/chromedriver_win32/chromedriver.exe\""
   ]
  },
  {
   "cell_type": "code",
   "execution_count": 6,
   "metadata": {
    "scrolled": true
   },
   "outputs": [],
   "source": [
    "driver = webdriver.Chrome(executable_path=chrome_driver_binary, options=options)\n",
    "driver.get(\"https://www.litres.ru\")"
   ]
  },
  {
   "cell_type": "code",
   "execution_count": 7,
   "metadata": {},
   "outputs": [],
   "source": [
    "SCROLL_PAUSE_TIME = 2.5\n",
    "pages = 0\n",
    "while True:\n",
    "    driver.execute_script(\"window.scrollTo(0, document.body.scrollHeight);\")    \n",
    "    sleep(SCROLL_PAUSE_TIME)\n",
    "    button = driver.find_element_by_id('arts_loader_button')\n",
    "    # button = WebDriverWait(driver, 5).until(\n",
    "    #         EC.presence_of_element_located((By.ID, 'arts_loader_button'))\n",
    "    #    )\n",
    "    if button.text != '':\n",
    "        button.click()  \n",
    "        pages += 1\n",
    "    if pages == 5:\n",
    "        break\n",
    "        \n",
    "# https://stackoverflow.com/questions/20986631/how-can-i-scroll-a-web-page-using-selenium-webdriver-in-python"
   ]
  },
  {
   "cell_type": "code",
   "execution_count": 8,
   "metadata": {},
   "outputs": [],
   "source": [
    "def add_to_db(db, item_info):\n",
    "    is_link_in = db.find_one({'art_id': item_info['art_id']})\n",
    "    if is_link_in == None:\n",
    "        result = db.insert_one(item_info)"
   ]
  },
  {
   "cell_type": "code",
   "execution_count": 9,
   "metadata": {},
   "outputs": [],
   "source": [
    "columns = ['art_id:', 'author_id:', 'alt:',\n",
    "           'author:', 'type:', 'mem:', 'drm:',\n",
    "           'price:', 'available:', 'available_date:',\n",
    "           'can_preorder:', 'main_book_id:',\n",
    "           'promo_price:', 'purchased:']"
   ]
  },
  {
   "cell_type": "code",
   "execution_count": 10,
   "metadata": {},
   "outputs": [],
   "source": [
    "df = pd.DataFrame({})\n",
    "for cover in driver.find_elements_by_class_name('cover'):\n",
    "    data_obj = cover.get_attribute('data-obj')\n",
    "    try:\n",
    "        for column in columns:\n",
    "            data_obj = data_obj.replace(column, \" '{}':\".format(column[:-1]))\n",
    "        data_obj = data_obj.replace(\"promo_ 'price'\", \"'promo_price'\")\n",
    "        item_info = ast.literal_eval(data_obj)\n",
    "        df = df.append(item_info, ignore_index=True)\n",
    "        add_to_db(docs, item_info)\n",
    "    except:\n",
    "        continue"
   ]
  },
  {
   "cell_type": "code",
   "execution_count": 11,
   "metadata": {},
   "outputs": [],
   "source": [
    "subset = df.columns[df.columns != 'main_book_id']\n",
    "df.drop_duplicates(subset=subset, inplace=True)"
   ]
  },
  {
   "cell_type": "code",
   "execution_count": 12,
   "metadata": {},
   "outputs": [
    {
     "data": {
      "text/html": [
       "<div>\n",
       "<style scoped>\n",
       "    .dataframe tbody tr th:only-of-type {\n",
       "        vertical-align: middle;\n",
       "    }\n",
       "\n",
       "    .dataframe tbody tr th {\n",
       "        vertical-align: top;\n",
       "    }\n",
       "\n",
       "    .dataframe thead th {\n",
       "        text-align: right;\n",
       "    }\n",
       "</style>\n",
       "<table border=\"1\" class=\"dataframe\">\n",
       "  <thead>\n",
       "    <tr style=\"text-align: right;\">\n",
       "      <th></th>\n",
       "      <th>alt</th>\n",
       "      <th>art_id</th>\n",
       "      <th>author</th>\n",
       "      <th>author_id</th>\n",
       "      <th>available</th>\n",
       "      <th>available_date</th>\n",
       "      <th>can_preorder</th>\n",
       "      <th>drm</th>\n",
       "      <th>main_book_id</th>\n",
       "      <th>mem</th>\n",
       "      <th>price</th>\n",
       "      <th>promo_price</th>\n",
       "      <th>type</th>\n",
       "      <th>purchased</th>\n",
       "    </tr>\n",
       "  </thead>\n",
       "  <tbody>\n",
       "    <tr>\n",
       "      <th>0</th>\n",
       "      <td>Другая правда. Том 2</td>\n",
       "      <td>43427366</td>\n",
       "      <td>Александра Маринина</td>\n",
       "      <td>54149</td>\n",
       "      <td>6</td>\n",
       "      <td>10 сентября</td>\n",
       "      <td>1</td>\n",
       "      <td>0</td>\n",
       "      <td>43427366</td>\n",
       "      <td>text</td>\n",
       "      <td>299.00</td>\n",
       "      <td>209.30</td>\n",
       "      <td>0</td>\n",
       "      <td>NaN</td>\n",
       "    </tr>\n",
       "    <tr>\n",
       "      <th>1</th>\n",
       "      <td>Казнь без злого умысла</td>\n",
       "      <td>9368246</td>\n",
       "      <td>Александра Маринина</td>\n",
       "      <td>54149</td>\n",
       "      <td>1</td>\n",
       "      <td>NaN</td>\n",
       "      <td></td>\n",
       "      <td>0</td>\n",
       "      <td>43427366</td>\n",
       "      <td>text</td>\n",
       "      <td>229.00</td>\n",
       "      <td>229.00</td>\n",
       "      <td>0</td>\n",
       "      <td>NaN</td>\n",
       "    </tr>\n",
       "    <tr>\n",
       "      <th>2</th>\n",
       "      <td>Горький квест. Том 1</td>\n",
       "      <td>36306148</td>\n",
       "      <td>Александра Маринина</td>\n",
       "      <td>54149</td>\n",
       "      <td>1</td>\n",
       "      <td>NaN</td>\n",
       "      <td></td>\n",
       "      <td>0</td>\n",
       "      <td>43427366</td>\n",
       "      <td>text</td>\n",
       "      <td>299.00</td>\n",
       "      <td>299.00</td>\n",
       "      <td>0</td>\n",
       "      <td>NaN</td>\n",
       "    </tr>\n",
       "    <tr>\n",
       "      <th>3</th>\n",
       "      <td>Тревожная весна 45-го</td>\n",
       "      <td>42935946</td>\n",
       "      <td>Валерий Шарапов</td>\n",
       "      <td>18709880</td>\n",
       "      <td>1</td>\n",
       "      <td>NaN</td>\n",
       "      <td></td>\n",
       "      <td>0</td>\n",
       "      <td>43427366</td>\n",
       "      <td>text</td>\n",
       "      <td>219.00</td>\n",
       "      <td>219.00</td>\n",
       "      <td>0</td>\n",
       "      <td>NaN</td>\n",
       "    </tr>\n",
       "    <tr>\n",
       "      <th>4</th>\n",
       "      <td>Папа с прицепом</td>\n",
       "      <td>43419352</td>\n",
       "      <td>Николай Леонов</td>\n",
       "      <td>45453</td>\n",
       "      <td>1</td>\n",
       "      <td>NaN</td>\n",
       "      <td></td>\n",
       "      <td>0</td>\n",
       "      <td>43427366</td>\n",
       "      <td>text</td>\n",
       "      <td>299.00</td>\n",
       "      <td>299.00</td>\n",
       "      <td>0</td>\n",
       "      <td>NaN</td>\n",
       "    </tr>\n",
       "  </tbody>\n",
       "</table>\n",
       "</div>"
      ],
      "text/plain": [
       "                      alt    art_id               author author_id available  \\\n",
       "0    Другая правда. Том 2  43427366  Александра Маринина     54149         6   \n",
       "1  Казнь без злого умысла   9368246  Александра Маринина     54149         1   \n",
       "2    Горький квест. Том 1  36306148  Александра Маринина     54149         1   \n",
       "3   Тревожная весна 45-го  42935946      Валерий Шарапов  18709880         1   \n",
       "4         Папа с прицепом  43419352       Николай Леонов     45453         1   \n",
       "\n",
       "  available_date can_preorder drm main_book_id   mem   price promo_price type  \\\n",
       "0    10 сентября            1   0     43427366  text  299.00      209.30    0   \n",
       "1            NaN                0     43427366  text  229.00      229.00    0   \n",
       "2            NaN                0     43427366  text  299.00      299.00    0   \n",
       "3            NaN                0     43427366  text  219.00      219.00    0   \n",
       "4            NaN                0     43427366  text  299.00      299.00    0   \n",
       "\n",
       "  purchased  \n",
       "0       NaN  \n",
       "1       NaN  \n",
       "2       NaN  \n",
       "3       NaN  \n",
       "4       NaN  "
      ]
     },
     "execution_count": 12,
     "metadata": {},
     "output_type": "execute_result"
    }
   ],
   "source": [
    "df.head()"
   ]
  },
  {
   "cell_type": "code",
   "execution_count": 13,
   "metadata": {},
   "outputs": [
    {
     "data": {
      "text/plain": [
       "(167, 14)"
      ]
     },
     "execution_count": 13,
     "metadata": {},
     "output_type": "execute_result"
    }
   ],
   "source": [
    "df.shape"
   ]
  },
  {
   "cell_type": "code",
   "execution_count": 14,
   "metadata": {},
   "outputs": [
    {
     "data": {
      "text/plain": [
       "167"
      ]
     },
     "execution_count": 14,
     "metadata": {},
     "output_type": "execute_result"
    }
   ],
   "source": [
    "docs.estimated_document_count()"
   ]
  },
  {
   "cell_type": "code",
   "execution_count": null,
   "metadata": {},
   "outputs": [],
   "source": []
  },
  {
   "cell_type": "code",
   "execution_count": null,
   "metadata": {},
   "outputs": [],
   "source": []
  },
  {
   "cell_type": "code",
   "execution_count": null,
   "metadata": {},
   "outputs": [],
   "source": []
  },
  {
   "cell_type": "code",
   "execution_count": null,
   "metadata": {},
   "outputs": [],
   "source": []
  },
  {
   "cell_type": "code",
   "execution_count": null,
   "metadata": {},
   "outputs": [],
   "source": [
    "\n"
   ]
  },
  {
   "cell_type": "code",
   "execution_count": null,
   "metadata": {},
   "outputs": [],
   "source": []
  },
  {
   "cell_type": "code",
   "execution_count": null,
   "metadata": {},
   "outputs": [],
   "source": []
  },
  {
   "cell_type": "code",
   "execution_count": null,
   "metadata": {},
   "outputs": [],
   "source": []
  },
  {
   "cell_type": "code",
   "execution_count": null,
   "metadata": {},
   "outputs": [],
   "source": []
  }
 ],
 "metadata": {
  "kernelspec": {
   "display_name": "Python 3",
   "language": "python",
   "name": "python3"
  },
  "language_info": {
   "codemirror_mode": {
    "name": "ipython",
    "version": 3
   },
   "file_extension": ".py",
   "mimetype": "text/x-python",
   "name": "python",
   "nbconvert_exporter": "python",
   "pygments_lexer": "ipython3",
   "version": "3.6.5"
  }
 },
 "nbformat": 4,
 "nbformat_minor": 2
}
