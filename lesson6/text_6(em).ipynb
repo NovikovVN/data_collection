{
 "cells": [
  {
   "cell_type": "code",
   "execution_count": 1,
   "metadata": {},
   "outputs": [],
   "source": [
    "import ast\n",
    "import pandas as pd\n",
    "from pymongo import MongoClient\n",
    "from selenium import webdriver\n",
    "# from selenium.webdriver.common.keys import Keys \n",
    "from time import sleep\n",
    "# from selenium.webdriver.common.by import By\n",
    "# from selenium.webdriver.support.ui import WebDriverWait\n",
    "# from selenium.webdriver.support import expected_conditions as EC"
   ]
  },
  {
   "cell_type": "code",
   "execution_count": 2,
   "metadata": {},
   "outputs": [],
   "source": [
    "options = webdriver.ChromeOptions()\n",
    "options.binary_location = r'C:/Program Files (x86)/Google/Chrome/Application/chrome.exe'\n",
    "chrome_driver_binary = r\"C:/Users/TOSHIBA/Downloads/chromedriver_win32/chromedriver.exe\""
   ]
  },
  {
   "cell_type": "code",
   "execution_count": 3,
   "metadata": {},
   "outputs": [],
   "source": [
    "driver = webdriver.Chrome(executable_path=chrome_driver_binary, options=options)\n",
    "driver.get(\"https://www.google.ru/\")"
   ]
  },
  {
   "cell_type": "code",
   "execution_count": 4,
   "metadata": {},
   "outputs": [],
   "source": [
    "mail_button = driver.find_element_by_id('gb_70')\n",
    "mail_button.click()\n",
    "\n",
    "sleep(2)\n",
    "\n",
    "input_email = driver.find_element_by_id('identifierId')\n",
    "input_email.send_keys('victo.novikov@gmail.com')\n",
    "\n",
    "sleep(2)\n",
    "\n",
    "idnext_button = driver.find_element_by_id('identifierNext')\n",
    "idnext_button.click()\n",
    "\n",
    "sleep(2)\n",
    "\n",
    "pass_div = driver.find_element_by_id('password')\n",
    "pass_div.click()\n",
    "\n",
    "sleep(2)\n",
    "\n",
    "input_pass = driver.find_element_by_xpath(\"//input[@type='password']\")\n",
    "input_pass.send_keys('1234asdf%')\n",
    "\n",
    "sleep(2)\n",
    "psnext_button = driver.find_element_by_id('passwordNext')\n",
    "psnext_button.click()\n",
    "\n",
    "sleep(2)\n",
    "email_link = driver.find_element_by_class_name('gb_e')\n",
    "email_link.click()"
   ]
  },
  {
   "cell_type": "code",
   "execution_count": 5,
   "metadata": {},
   "outputs": [],
   "source": [
    "sleep(2)\n",
    "emails = driver.find_elements_by_xpath(\"//tr[@jscontroller='ZdOxDb']\")"
   ]
  },
  {
   "cell_type": "code",
   "execution_count": 6,
   "metadata": {},
   "outputs": [],
   "source": [
    "df = pd.DataFrame(columns=['header', 'go', 'text'])"
   ]
  },
  {
   "cell_type": "code",
   "execution_count": 7,
   "metadata": {
    "scrolled": false
   },
   "outputs": [
    {
     "name": "stdout",
     "output_type": "stream",
     "text": [
      "Specializing CRISP-DM for Evidence Mining\n",
      "<updates@academia-mail.com>\n",
      "Face Detection and Expression Recognition Using Fuzzy Rule Interpolation - Academia.edu\n",
      "<updates@academia-mail.com>\n",
      "A Multi-granular Linguistic Hierarchical Model to Evaluate the Quality of Web...\n",
      "<updates@academia-mail.com>\n",
      "Comparison between Various Approaches for Customer Relationship Management in...\n",
      "<updates@academia-mail.com>\n",
      "Application of Data Mining in Customer Relationships Management (CRM\n",
      "<updates@academia-mail.com>\n",
      "Data Mining for Security Applications\n",
      "<updates@academia-mail.com>\n",
      "Suggested for you: \"A Survey on Web Usage Mining with Fuzzy c-Means Clustering Algorithm\"\n",
      "<updates@academia-mail.com>\n",
      "Anca Ralescu has a paper that you might like\n",
      "<updates@academia-mail.com>\n",
      "Medical Diagnosis by Fuzzy Standard Additive Model with Wavelets - Academia.edu\n",
      "<updates@academia-mail.com>\n",
      "Adesh Kumar Sharma has a paper that you might like\n",
      "<updates@academia-mail.com>\n",
      "Shuanghe Yu has a paper that you might like\n",
      "<updates@academia-mail.com>\n",
      "Andreas Handojo has a paper that you might like\n",
      "<updates@academia-mail.com>\n",
      "Lavanya Sangani has a paper that you might like\n",
      "<updates@academia-mail.com>\n",
      "Michael Alexander Kaufmann has a paper that you might like\n",
      "<updates@academia-mail.com>\n",
      "Asli Celikyilmaz has a paper that you might like\n",
      "<updates@academia-mail.com>\n",
      "Olivera Grljevic has a paper that you might like\n",
      "<updates@academia-mail.com>\n",
      "Daniel Leite has a paper that you might like\n",
      "<updates@academia-mail.com>\n",
      "\"Granular fuzzy Web intelligence techniques for profitable data mining\": Download Full Text\n",
      "<updates@academia-mail.com>\n",
      "J. Journal of Soft Computing and Decision Suppo... has a paper that you might like\n",
      "<updates@academia-mail.com>\n",
      "Emmanuel Uko has a paper that you might like\n",
      "<updates@academia-mail.com>\n",
      "«Rashomon effect»: co∼eventum mechanistic approach in forensics - Academia.edu\n",
      "<updates@academia-mail.com>\n",
      "Ijircst I has a paper that you might like\n",
      "<updates@academia-mail.com>\n",
      "Sushil Prasad has a paper that you might like\n",
      "<updates@academia-mail.com>\n",
      "Nilesh Chaurasia has a paper that you might like\n",
      "<updates@academia-mail.com>\n",
      "Kerim Goztepe has a paper that you might like\n",
      "<updates@academia-mail.com>\n",
      "Edison Spina has a paper that you might like\n",
      "<updates@academia-mail.com>\n",
      "Edison Spina has a paper that you might like\n",
      "<updates@academia-mail.com>\n",
      "AB Patki has a paper that you might like\n",
      "<updates@academia-mail.com>\n",
      "The new Intermediate Machine Learning course\n",
      "<dan.becker@kaggle.intercom-mail.com>\n",
      "IBM Quantum Results Ready!\n",
      "через sendgrid.net \n",
      "Competition Launch: Fine-Grained Visual Categorization 6\n",
      "<maggie.demkin@kaggle.intercom-mail.com>\n",
      "Competition Launch: Recognizing Faces in the Wild\n",
      "<sohier.dane@kaggle.intercom-mail.com>\n",
      "Help encourage diversity with data science\n",
      "<team@kaggle.intercom-mail.com>\n",
      "INTRODUCING TARSKI'S 1983 LSM - Academia.edu\n",
      "<updates@academia-mail.com>\n",
      "An easier (and more practical) way to try Python\n",
      "<dan.becker@kaggle.intercom-mail.com>\n",
      "Help with the #1 reason you miss your DS goals\n",
      "<dan.becker@kaggle.intercom-mail.com>\n",
      "How to Land Your Dream Job at Careercon 2019\n",
      "<mark.mcdonald@kaggle.intercom-mail.com>\n",
      "Oleg Yu. Vorobyev. Eventology. – Krasnoyarsk: Siberian Federal University. –... - Academia.edu\n",
      "<updates@academia-mail.com>\n",
      "Improve DC Motor System using Fuzzy Logic Control by Particle Swarm... - Academia.edu\n",
      "<updates@academia-mail.com>\n",
      "Announcing CareerCon 2019: Land Your First Data Science Job\n",
      "<mark.mcdonald@kaggle.intercom-mail.com>\n",
      "Cybersecurity between Enemies and Allies, by Desta Bailey, Modern Diplomacy -... - Academia.edu\n",
      "<updates@academia-mail.com>\n",
      "\"Integrating Fuzzy Logic and Data Mining: Impact on Cyber Security\": Download Full Text\n",
      "<updates@academia-mail.com>\n",
      "CareerCon 2019 - Competition Launch: Help Navigate Robots\n",
      "<sohier.dane@kaggle.intercom-mail.com>\n",
      "Welcome to Academia.edu!\n",
      "<updates@academia-mail.com>\n",
      "Приложение \"academia.edu\" связано с Вашим аккаунтом Google\n",
      "<no-reply@accounts.google.com>\n",
      "Join us for Kaggle Days Dubai at AI Everything!\n",
      "<team@kaggle.intercom-mail.com>\n"
     ]
    }
   ],
   "source": [
    "for email in emails:\n",
    "    try:\n",
    "        email.click()\n",
    "        sleep(2)\n",
    "        header_info = driver.find_element_by_xpath(\"//h2[@class='hP']\")\n",
    "        print(header_info.text)\n",
    "        go_info = driver.find_element_by_xpath(\"//span[@class='go']\")\n",
    "        print(go_info.text)\n",
    "       # ps = []\n",
    "       # for p in driver.find_elements_by_css_selector('p'):\n",
    "       #     ps.append(p.text)\n",
    "       # ps_text = ''.join(ps)\n",
    "        inputs_link = driver.find_element_by_xpath(\"//a[@class='J-Ke n0']\")\n",
    "        inputs_link.click()\n",
    "        sleep(2)\n",
    "       # email_info = {'header': header_info.text,\n",
    "       #               'go': go_info.text,\n",
    "       #               'text': ps_text\n",
    "       #              }\n",
    "       # df = df.append(email_info, ignore_index=True)\n",
    "    except:\n",
    "        continue"
   ]
  },
  {
   "cell_type": "code",
   "execution_count": null,
   "metadata": {},
   "outputs": [],
   "source": []
  },
  {
   "cell_type": "code",
   "execution_count": null,
   "metadata": {},
   "outputs": [],
   "source": []
  },
  {
   "cell_type": "code",
   "execution_count": null,
   "metadata": {},
   "outputs": [],
   "source": []
  },
  {
   "cell_type": "code",
   "execution_count": null,
   "metadata": {},
   "outputs": [],
   "source": []
  },
  {
   "cell_type": "code",
   "execution_count": null,
   "metadata": {},
   "outputs": [],
   "source": []
  },
  {
   "cell_type": "code",
   "execution_count": null,
   "metadata": {},
   "outputs": [],
   "source": []
  },
  {
   "cell_type": "code",
   "execution_count": null,
   "metadata": {},
   "outputs": [],
   "source": []
  },
  {
   "cell_type": "code",
   "execution_count": null,
   "metadata": {},
   "outputs": [],
   "source": []
  }
 ],
 "metadata": {
  "kernelspec": {
   "display_name": "Python 3",
   "language": "python",
   "name": "python3"
  },
  "language_info": {
   "codemirror_mode": {
    "name": "ipython",
    "version": 3
   },
   "file_extension": ".py",
   "mimetype": "text/x-python",
   "name": "python",
   "nbconvert_exporter": "python",
   "pygments_lexer": "ipython3",
   "version": "3.6.5"
  }
 },
 "nbformat": 4,
 "nbformat_minor": 2
}
