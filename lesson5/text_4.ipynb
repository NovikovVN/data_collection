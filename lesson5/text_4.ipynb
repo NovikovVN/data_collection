{
 "cells": [
  {
   "cell_type": "code",
   "execution_count": 1,
   "metadata": {},
   "outputs": [],
   "source": [
    "import datetime\n",
    "import os\n",
    "import re\n",
    "import numpy as np\n",
    "import pandas as pd\n",
    "import requests\n",
    "from bs4 import BeautifulSoup as bs\n",
    "from glob import glob\n",
    "from pprint import pprint\n",
    "from pymongo import MongoClient\n",
    "from time import sleep\n",
    "from zeep import Client"
   ]
  },
  {
   "cell_type": "markdown",
   "metadata": {},
   "source": [
    "**1). Модифицировать приложение из предыдущего домашнего задания:**\n",
    " - приложение должно собирать вакансии сразу с двух сайтов hh.ru и superjob.ru\n",
    " - собранные данные должны быть приведены к общей структуре\n",
    " - разделить зарплату на две составляющие (мин. и макс.) и сохранить в виде int. Если валюта указана другая, привести все к рублям.\n",
    "\n",
    "**2). Реализовать сохранение полученных вакансий в СУБД (на выбор SQLite или MongoDB)**\n",
    "\n",
    "**3). Написать функцию, которая производит поиск и выводит на экран вакансии с заработной платой больше введенной суммы.**\n",
    "\n",
    "**4). При наличии вакансии с зарплатой отличной от руб. приложение должно осущетсвлять автоматический перевод по курсу валюты на сегодняшний день. Информацию получать через SOAP-сервис центробанка.**"
   ]
  },
  {
   "cell_type": "code",
   "execution_count": 2,
   "metadata": {},
   "outputs": [],
   "source": [
    "columns = ['vacancy', 'snippet', 'min_salary', 'max_salary', 'currency', 'employer', 'site', 'link']\n",
    "hh = pd.DataFrame(columns=columns)\n",
    "sj = pd.DataFrame(columns=columns)"
   ]
  },
  {
   "cell_type": "markdown",
   "metadata": {},
   "source": [
    "Получим wsdl от ЦБ:"
   ]
  },
  {
   "cell_type": "code",
   "execution_count": 3,
   "metadata": {},
   "outputs": [],
   "source": [
    "wsdl = 'http://www.cbr.ru/DailyInfoWebServ/DailyInfo.asmx?WSDL'\n",
    "zeep_client = Client(wsdl)"
   ]
  },
  {
   "cell_type": "markdown",
   "metadata": {},
   "source": [
    "Функция получения текущего курса задаваемой валюты:"
   ]
  },
  {
   "cell_type": "code",
   "execution_count": 4,
   "metadata": {},
   "outputs": [],
   "source": [
    "def get_current_rate(currency_name='Доллар США'):\n",
    "    now_date = datetime.datetime.now()\n",
    "    rates_on_date = zeep_client.service.GetCursOnDate(now_date)\n",
    "    for currency in rates_on_date._value_1._value_1:\n",
    "        for _, currency_info in currency.items():\n",
    "            if currency_name in currency_info['Vname']:\n",
    "                current_rate = float(currency_info['Vcurs'])\n",
    "    return current_rate"
   ]
  },
  {
   "cell_type": "markdown",
   "metadata": {},
   "source": [
    "Подключимся к БД:"
   ]
  },
  {
   "cell_type": "code",
   "execution_count": 5,
   "metadata": {},
   "outputs": [],
   "source": [
    "client = MongoClient('mongodb://127.0.0.1:27017')\n",
    "\n",
    "db_name = 'test'"
   ]
  },
  {
   "cell_type": "markdown",
   "metadata": {},
   "source": [
    "Если такая БД есть, пересоздаем ее:"
   ]
  },
  {
   "cell_type": "code",
   "execution_count": 6,
   "metadata": {},
   "outputs": [],
   "source": [
    "db_list = client.list_database_names()\n",
    "if db_name in db_list:\n",
    "    client.drop_database(db_name)"
   ]
  },
  {
   "cell_type": "code",
   "execution_count": 7,
   "metadata": {},
   "outputs": [],
   "source": [
    "db = client[db_name]\n",
    "docs = db.docs"
   ]
  },
  {
   "cell_type": "markdown",
   "metadata": {},
   "source": [
    "Функция с проверкой, есть ли вакансия в БД - если нет, то добавляем вакансию:"
   ]
  },
  {
   "cell_type": "code",
   "execution_count": 8,
   "metadata": {},
   "outputs": [],
   "source": [
    "def add_to_db(db, vacancy_info):\n",
    "    is_link_in = db.find_one({'link': vacancy_info['link']})\n",
    "    if is_link_in == None:\n",
    "        result = db.insert_one(vacancy_info)"
   ]
  },
  {
   "cell_type": "markdown",
   "metadata": {},
   "source": [
    "Через парсинг сохраненных страниц сайта hh.ru получим данные по вакансиям (добавим их в датафрейм и БД):"
   ]
  },
  {
   "cell_type": "code",
   "execution_count": 9,
   "metadata": {},
   "outputs": [],
   "source": [
    "for file_name in glob(os.path.join('hh', '*.html')):\n",
    "    with open(file_name, 'rb') as f:\n",
    "        parser = bs(f, 'html.parser')\n",
    "        vacancies = parser.find_all('div', {'class': 'vacancy-serp-item'})\n",
    "        for v in vacancies:\n",
    "            vacancy = v.find('a', {'class': 'bloko-link HH-LinkModifier'}, href=True)\n",
    "            snippet = v.find('div', {'data-qa': \"vacancy-serp__vacancy_snippet_requirement\"})\n",
    "            snippet = ''.join(snippet.get_text())\n",
    "            salary_info = v.find('div', {'class': \"vacancy-serp-item__compensation\"})\n",
    "            if salary_info:\n",
    "                salary_text = salary_info.get_text()\n",
    "                salary_text = salary_text.replace('\\xa0', '')\n",
    "                salaries = re.findall('[0-9]+', salary_text)\n",
    "                min_salary = int(salaries[0])\n",
    "                if len(salaries) == 2:\n",
    "                    max_salary = int(salaries[1])\n",
    "                else:\n",
    "                    max_salary = np.nan\n",
    "                currency_info = re.findall('руб|USD', salary_text)\n",
    "                if 'руб' in currency_info:\n",
    "                    currency = 'руб.'\n",
    "                elif 'USD' in currency_info:\n",
    "                    currency = 'руб.'\n",
    "                    current_rate = get_current_rate()\n",
    "                    min_salary *= current_rate\n",
    "                    max_salary *= current_rate\n",
    "                else:\n",
    "                    currency = 'у.е.'\n",
    "            else:\n",
    "                min_salary = np.nan\n",
    "                max_salary = np.nan\n",
    "                currency = np.nan\n",
    "            employer = v.find('a', {'data-qa': \"vacancy-serp__vacancy-employer\"})\n",
    "            link = vacancy['href']\n",
    "            link = re.sub('[?]query=.+', '', link)            \n",
    "            vacancy_info = {\n",
    "                'vacancy': vacancy.get_text(),\n",
    "                'snippet': snippet,\n",
    "                'currency': currency,\n",
    "                'min_salary': min_salary,\n",
    "                'max_salary': max_salary,\n",
    "                'employer': employer.get_text(),\n",
    "                'site': 'hh',\n",
    "                'link': link,\n",
    "            }\n",
    "            hh = hh.append(vacancy_info, ignore_index=True)\n",
    "            add_to_db(docs, vacancy_info)"
   ]
  },
  {
   "cell_type": "code",
   "execution_count": 10,
   "metadata": {},
   "outputs": [
    {
     "data": {
      "text/html": [
       "<div>\n",
       "<style scoped>\n",
       "    .dataframe tbody tr th:only-of-type {\n",
       "        vertical-align: middle;\n",
       "    }\n",
       "\n",
       "    .dataframe tbody tr th {\n",
       "        vertical-align: top;\n",
       "    }\n",
       "\n",
       "    .dataframe thead th {\n",
       "        text-align: right;\n",
       "    }\n",
       "</style>\n",
       "<table border=\"1\" class=\"dataframe\">\n",
       "  <thead>\n",
       "    <tr style=\"text-align: right;\">\n",
       "      <th></th>\n",
       "      <th>vacancy</th>\n",
       "      <th>snippet</th>\n",
       "      <th>min_salary</th>\n",
       "      <th>max_salary</th>\n",
       "      <th>currency</th>\n",
       "      <th>employer</th>\n",
       "      <th>site</th>\n",
       "      <th>link</th>\n",
       "    </tr>\n",
       "  </thead>\n",
       "  <tbody>\n",
       "    <tr>\n",
       "      <th>0</th>\n",
       "      <td>Программист С++</td>\n",
       "      <td>Отличное знание C++. Умение разбираться в чужо...</td>\n",
       "      <td>60000</td>\n",
       "      <td>100000</td>\n",
       "      <td>руб.</td>\n",
       "      <td>Cappasity Inc.</td>\n",
       "      <td>hh</td>\n",
       "      <td>https://hh.ru/vacancy/32323917</td>\n",
       "    </tr>\n",
       "    <tr>\n",
       "      <th>1</th>\n",
       "      <td>Программист С++/Qt</td>\n",
       "      <td>QT framework. Знание паттернов, разработка мно...</td>\n",
       "      <td>60000</td>\n",
       "      <td>100000</td>\n",
       "      <td>руб.</td>\n",
       "      <td>Cappasity Inc.</td>\n",
       "      <td>hh</td>\n",
       "      <td>https://hh.ru/vacancy/31273030</td>\n",
       "    </tr>\n",
       "    <tr>\n",
       "      <th>2</th>\n",
       "      <td>Full-Stack Разработчик JavaScript (Node.js + A...</td>\n",
       "      <td>JavaScript / TypeScript (идеальное владение). ...</td>\n",
       "      <td>120000</td>\n",
       "      <td>NaN</td>\n",
       "      <td>руб.</td>\n",
       "      <td>ИП Бушев Юрий Владимирович</td>\n",
       "      <td>hh</td>\n",
       "      <td>https://hh.ru/vacancy/32859767</td>\n",
       "    </tr>\n",
       "    <tr>\n",
       "      <th>3</th>\n",
       "      <td>Программист (C#\\ ASP.NET\\MVC)</td>\n",
       "      <td>Высшее профильное образование. Опыт разработки...</td>\n",
       "      <td>100000</td>\n",
       "      <td>NaN</td>\n",
       "      <td>руб.</td>\n",
       "      <td>ООО МИЮИ</td>\n",
       "      <td>hh</td>\n",
       "      <td>https://hh.ru/vacancy/33036570</td>\n",
       "    </tr>\n",
       "    <tr>\n",
       "      <th>4</th>\n",
       "      <td>Web-программист/PHP-программист</td>\n",
       "      <td>Знание PHP, MySQL‚ HTML‚ CSS‚ JavaScript. - Оп...</td>\n",
       "      <td>NaN</td>\n",
       "      <td>NaN</td>\n",
       "      <td>NaN</td>\n",
       "      <td>Онлишар</td>\n",
       "      <td>hh</td>\n",
       "      <td>https://hh.ru/vacancy/32728996</td>\n",
       "    </tr>\n",
       "  </tbody>\n",
       "</table>\n",
       "</div>"
      ],
      "text/plain": [
       "                                             vacancy  \\\n",
       "0                                    Программист С++   \n",
       "1                                 Программист С++/Qt   \n",
       "2  Full-Stack Разработчик JavaScript (Node.js + A...   \n",
       "3                      Программист (C#\\ ASP.NET\\MVC)   \n",
       "4                    Web-программист/PHP-программист   \n",
       "\n",
       "                                             snippet min_salary max_salary  \\\n",
       "0  Отличное знание C++. Умение разбираться в чужо...      60000     100000   \n",
       "1  QT framework. Знание паттернов, разработка мно...      60000     100000   \n",
       "2  JavaScript / TypeScript (идеальное владение). ...     120000        NaN   \n",
       "3  Высшее профильное образование. Опыт разработки...     100000        NaN   \n",
       "4  Знание PHP, MySQL‚ HTML‚ CSS‚ JavaScript. - Оп...        NaN        NaN   \n",
       "\n",
       "  currency                    employer site                            link  \n",
       "0     руб.              Cappasity Inc.   hh  https://hh.ru/vacancy/32323917  \n",
       "1     руб.              Cappasity Inc.   hh  https://hh.ru/vacancy/31273030  \n",
       "2     руб.  ИП Бушев Юрий Владимирович   hh  https://hh.ru/vacancy/32859767  \n",
       "3     руб.                    ООО МИЮИ   hh  https://hh.ru/vacancy/33036570  \n",
       "4      NaN                     Онлишар   hh  https://hh.ru/vacancy/32728996  "
      ]
     },
     "execution_count": 10,
     "metadata": {},
     "output_type": "execute_result"
    }
   ],
   "source": [
    "hh.drop_duplicates(inplace=True)\n",
    "\n",
    "hh.head()"
   ]
  },
  {
   "cell_type": "markdown",
   "metadata": {},
   "source": [
    "Через запросы на сайт superjob.ru и парсинг результатов запроса получим данные по вакансиям (добавим их в датафрейм и БД):"
   ]
  },
  {
   "cell_type": "code",
   "execution_count": 11,
   "metadata": {},
   "outputs": [
    {
     "name": "stdout",
     "output_type": "stream",
     "text": [
      "<Response [200]>\n",
      "<Response [200]>\n",
      "<Response [200]>\n"
     ]
    }
   ],
   "source": [
    "for page in ['', '?page=3', '?page=7']:\n",
    "    url = 'https://www.superjob.ru/vakansii/programmist.html' + page\n",
    "    r = requests.get(url)\n",
    "    print(r)\n",
    "    sleep(6)\n",
    "    parser = bs(r.text, 'html.parser')\n",
    "    vacancies = parser.find_all('div', {'class': '_3zucV _2GPIV i6-sc _3VcZr'})\n",
    "    for v in vacancies:\n",
    "        vacancy = v.find('div', {'class': '_3mfro CuJz5 PlM3e _2JVkc _3LJqf'})\n",
    "        salary_text = v.find('span', {'class': 'f-test-text-company-item-salary'}).get_text()\n",
    "        if salary_text == 'По договорённости':\n",
    "            min_salary = np.nan\n",
    "            max_salary = np.nan\n",
    "            currency = np.nan\n",
    "        else:\n",
    "            salary_text = salary_text.replace('\\xa0', '')\n",
    "            salaries = re.findall('[0-9]+', salary_text)\n",
    "            min_salary = int(salaries[0])\n",
    "            if len(salaries) == 2:\n",
    "                max_salary = int(salaries[1])\n",
    "            else:\n",
    "                max_salary = np.nan\n",
    "            currency = 'руб.'\n",
    "        employer_info = v.find('span', {'class': 'f-test-text-vacancy-item-company-name'})\n",
    "        if employer_info:\n",
    "            employer = employer_info.get_text()\n",
    "        else:\n",
    "            employer = np.nan\n",
    "        snippet_info = v.find_all('span', {'class': '_3mfro _9fXTd _2JVkc _2VHxz'})\n",
    "        if len(snippet_info) == 2:\n",
    "            snippet = snippet_info[0].get_text().replace('Должностные обязанности: ', '')\n",
    "            snippet += snippet_info[1].get_text().replace('Требования:', '')\n",
    "        else:\n",
    "            snippet = np.nan\n",
    "        link = v.find('a', {'class': '_1QIBo'}, href=True)['href']\n",
    "        link = 'https://www.superjob.ru' + link\n",
    "        vacancy_info = {\n",
    "                    'vacancy': vacancy.get_text(),\n",
    "                    'snippet': snippet,\n",
    "                    'currency': currency,\n",
    "                    'min_salary': min_salary,\n",
    "                    'max_salary': max_salary,\n",
    "                    'employer': employer,\n",
    "                    'site': 'sj',\n",
    "                    'link': link,\n",
    "                }\n",
    "        sj = sj.append(vacancy_info, ignore_index=True)\n",
    "        add_to_db(docs, vacancy_info)"
   ]
  },
  {
   "cell_type": "code",
   "execution_count": 12,
   "metadata": {},
   "outputs": [
    {
     "data": {
      "text/html": [
       "<div>\n",
       "<style scoped>\n",
       "    .dataframe tbody tr th:only-of-type {\n",
       "        vertical-align: middle;\n",
       "    }\n",
       "\n",
       "    .dataframe tbody tr th {\n",
       "        vertical-align: top;\n",
       "    }\n",
       "\n",
       "    .dataframe thead th {\n",
       "        text-align: right;\n",
       "    }\n",
       "</style>\n",
       "<table border=\"1\" class=\"dataframe\">\n",
       "  <thead>\n",
       "    <tr style=\"text-align: right;\">\n",
       "      <th></th>\n",
       "      <th>vacancy</th>\n",
       "      <th>snippet</th>\n",
       "      <th>min_salary</th>\n",
       "      <th>max_salary</th>\n",
       "      <th>currency</th>\n",
       "      <th>employer</th>\n",
       "      <th>site</th>\n",
       "      <th>link</th>\n",
       "    </tr>\n",
       "  </thead>\n",
       "  <tbody>\n",
       "    <tr>\n",
       "      <th>0</th>\n",
       "      <td>Ведущий программист</td>\n",
       "      <td>Проведение обследования и постановка задач на ...</td>\n",
       "      <td>49000</td>\n",
       "      <td>60000</td>\n",
       "      <td>руб.</td>\n",
       "      <td>Российская детская клиническая больница Минздр...</td>\n",
       "      <td>sj</td>\n",
       "      <td>https://www.superjob.ru/vakansii/veduschij-pro...</td>\n",
       "    </tr>\n",
       "    <tr>\n",
       "      <th>1</th>\n",
       "      <td>Web-программист</td>\n",
       "      <td>Центр по разработке ПО в сфере логистики пригл...</td>\n",
       "      <td>150000</td>\n",
       "      <td>NaN</td>\n",
       "      <td>руб.</td>\n",
       "      <td>Кадровое агентство уникальных специалистов</td>\n",
       "      <td>sj</td>\n",
       "      <td>https://www.superjob.ru/vakansii/web-programmi...</td>\n",
       "    </tr>\n",
       "    <tr>\n",
       "      <th>2</th>\n",
       "      <td>Программист 1С</td>\n",
       "      <td>Разработка и внедрение программного продукта в...</td>\n",
       "      <td>100000</td>\n",
       "      <td>NaN</td>\n",
       "      <td>руб.</td>\n",
       "      <td>Группа компаний ЦВТ</td>\n",
       "      <td>sj</td>\n",
       "      <td>https://www.superjob.ru/vakansii/programmist-1...</td>\n",
       "    </tr>\n",
       "    <tr>\n",
       "      <th>3</th>\n",
       "      <td>Программист PHP</td>\n",
       "      <td>Разработка и сопровождение WEB-сервисов предпр...</td>\n",
       "      <td>NaN</td>\n",
       "      <td>NaN</td>\n",
       "      <td>NaN</td>\n",
       "      <td>Национальное агентство клинической фармакологи...</td>\n",
       "      <td>sj</td>\n",
       "      <td>https://www.superjob.ru/vakansii/programmist-p...</td>\n",
       "    </tr>\n",
       "    <tr>\n",
       "      <th>4</th>\n",
       "      <td>Инженер-программист</td>\n",
       "      <td>Проектирование систем обработки информации. От...</td>\n",
       "      <td>NaN</td>\n",
       "      <td>NaN</td>\n",
       "      <td>NaN</td>\n",
       "      <td>\"Корпорация \"ВНИИЭМ\"</td>\n",
       "      <td>sj</td>\n",
       "      <td>https://www.superjob.ru/vakansii/inzhener-prog...</td>\n",
       "    </tr>\n",
       "  </tbody>\n",
       "</table>\n",
       "</div>"
      ],
      "text/plain": [
       "               vacancy                                            snippet  \\\n",
       "0  Ведущий программист  Проведение обследования и постановка задач на ...   \n",
       "1      Web-программист  Центр по разработке ПО в сфере логистики пригл...   \n",
       "2       Программист 1С  Разработка и внедрение программного продукта в...   \n",
       "3      Программист PHP  Разработка и сопровождение WEB-сервисов предпр...   \n",
       "4  Инженер-программист  Проектирование систем обработки информации. От...   \n",
       "\n",
       "  min_salary max_salary currency  \\\n",
       "0      49000      60000     руб.   \n",
       "1     150000        NaN     руб.   \n",
       "2     100000        NaN     руб.   \n",
       "3        NaN        NaN      NaN   \n",
       "4        NaN        NaN      NaN   \n",
       "\n",
       "                                            employer site  \\\n",
       "0  Российская детская клиническая больница Минздр...   sj   \n",
       "1         Кадровое агентство уникальных специалистов   sj   \n",
       "2                                Группа компаний ЦВТ   sj   \n",
       "3  Национальное агентство клинической фармакологи...   sj   \n",
       "4                               \"Корпорация \"ВНИИЭМ\"   sj   \n",
       "\n",
       "                                                link  \n",
       "0  https://www.superjob.ru/vakansii/veduschij-pro...  \n",
       "1  https://www.superjob.ru/vakansii/web-programmi...  \n",
       "2  https://www.superjob.ru/vakansii/programmist-1...  \n",
       "3  https://www.superjob.ru/vakansii/programmist-p...  \n",
       "4  https://www.superjob.ru/vakansii/inzhener-prog...  "
      ]
     },
     "execution_count": 12,
     "metadata": {},
     "output_type": "execute_result"
    }
   ],
   "source": [
    "sj.drop_duplicates(inplace=True)\n",
    "\n",
    "sj.head()"
   ]
  },
  {
   "cell_type": "markdown",
   "metadata": {},
   "source": [
    "Объединим в датафрейм полученные данные с hh.ru и superjob.ru:"
   ]
  },
  {
   "cell_type": "code",
   "execution_count": 13,
   "metadata": {},
   "outputs": [],
   "source": [
    "df = pd.concat([hh, sj], sort=False, ignore_index=True)"
   ]
  },
  {
   "cell_type": "markdown",
   "metadata": {},
   "source": [
    "Напишем функцию, которая фильтрует записи датафрейма по названию языка в столбцах с названием и описанием вакансии.\n",
    "Сортируем их по зарплате - по убыванию:"
   ]
  },
  {
   "cell_type": "code",
   "execution_count": 14,
   "metadata": {},
   "outputs": [],
   "source": [
    "def filter_vacancies(l, df):\n",
    "    idx = df['vacancy'].str.contains(l, regex=False) | \\\n",
    "          df['snippet'].str.contains(l, regex=False)\n",
    "    return df[idx].sort_values(by=['min_salary', 'max_salary'], ascending=False)"
   ]
  },
  {
   "cell_type": "markdown",
   "metadata": {},
   "source": [
    "Отфильтруем в датафрейме вакансии по С++:"
   ]
  },
  {
   "cell_type": "code",
   "execution_count": 15,
   "metadata": {
    "scrolled": false
   },
   "outputs": [],
   "source": [
    "#filter_vacancies('C++', df=df)"
   ]
  },
  {
   "cell_type": "markdown",
   "metadata": {},
   "source": [
    "Напишем функцию, выводящую из БД вакансии с зарплатой более заданного значения:"
   ]
  },
  {
   "cell_type": "code",
   "execution_count": 16,
   "metadata": {},
   "outputs": [],
   "source": [
    "def filter_salary(db, salary=200000):\n",
    "    results = db.find({\"min_salary\": {'$gte': salary}})\n",
    "    for r in results:\n",
    "        pprint(r)"
   ]
  },
  {
   "cell_type": "code",
   "execution_count": 17,
   "metadata": {
    "scrolled": false
   },
   "outputs": [
    {
     "name": "stdout",
     "output_type": "stream",
     "text": [
      "{'_id': ObjectId('5d5fb7ff7928b25c7393b8b7'),\n",
      " 'currency': 'руб.',\n",
      " 'employer': ' HeadHunter::Технический департамент',\n",
      " 'link': 'https://hh.ru/vacancy/32144172',\n",
      " 'max_salary': nan,\n",
      " 'min_salary': 200000,\n",
      " 'site': 'hh',\n",
      " 'snippet': 'Очень хорошо знает JavaScript и React. Понимает на что нужно '\n",
      "            'обращать внимание при разработке страниц. Командный игрок и хочет '\n",
      "            'обсуждать...',\n",
      " 'vacancy': 'Senior Front-end Developer (JavaScript, React)'}\n",
      "{'_id': ObjectId('5d5fb7ff7928b25c7393b8c0'),\n",
      " 'currency': 'руб.',\n",
      " 'employer': ' HeadHunter::Технический департамент',\n",
      " 'link': 'https://hh.ru/vacancy/32893126',\n",
      " 'max_salary': nan,\n",
      " 'min_salary': 200000,\n",
      " 'site': 'hh',\n",
      " 'snippet': 'Хорошее владение Java и опыт объектно-ориентированного '\n",
      "            'программирования. Знание основных библиотек и шаблонов '\n",
      "            'проектирования. Знание основных алгоритмов и структур данных. ',\n",
      " 'vacancy': 'Senior java developer'}\n",
      "{'_id': ObjectId('5d5fb7ff7928b25c7393b8c2'),\n",
      " 'currency': 'руб.',\n",
      " 'employer': ' JetBrains',\n",
      " 'link': 'https://hh.ru/vacancy/31891023',\n",
      " 'max_salary': nan,\n",
      " 'min_salary': 200000,\n",
      " 'site': 'hh',\n",
      " 'snippet': '...interests if you: Want to develop in Kotlin. Are interested in '\n",
      "            'desktop, web or mobile development. Are familiar with QA...',\n",
      " 'vacancy': 'Senior Software Developer (new product for QA)'}\n",
      "{'_id': ObjectId('5d5fb8007928b25c7393b8d7'),\n",
      " 'currency': 'руб.',\n",
      " 'employer': 'ООО Матрас.ру',\n",
      " 'link': 'https://hh.ru/vacancy/32946587',\n",
      " 'max_salary': 200000,\n",
      " 'min_salary': 200000,\n",
      " 'site': 'hh',\n",
      " 'snippet': 'Отличное знание MySQL на уровне разработчика. Опыт работы Git и '\n",
      "            'Linux . Осознанное понимание паттернов проектирования. Опыт '\n",
      "            'использования одного из современных...',\n",
      " 'vacancy': 'Старший программист-разработчик PHP'}\n",
      "{'_id': ObjectId('5d5fb8007928b25c7393b8dd'),\n",
      " 'currency': 'руб.',\n",
      " 'employer': ' Сбербанк для экспертов',\n",
      " 'link': 'https://hh.ru/vacancy/32377870',\n",
      " 'max_salary': nan,\n",
      " 'min_salary': 230000,\n",
      " 'site': 'hh',\n",
      " 'snippet': 'Опыт от 2-х лет разработки систем с трудозатратами не менее 1000 '\n",
      "            'чел-дней. Знание основных методологий (Agile, DevOps и...',\n",
      " 'vacancy': 'Backend разработчик Java (ДИТ HR)'}\n",
      "{'_id': ObjectId('5d5fb8007928b25c7393b8df'),\n",
      " 'currency': 'руб.',\n",
      " 'employer': ' Сбербанк для экспертов',\n",
      " 'link': 'https://hh.ru/vacancy/32379189',\n",
      " 'max_salary': nan,\n",
      " 'min_salary': 230000,\n",
      " 'site': 'hh',\n",
      " 'snippet': 'JS на продвинутом уровне: closures, lexical environment, '\n",
      "            'особенности this, прототипное наследование, ES6/7. Опыт работы с '\n",
      "            'одним из фреймворков...',\n",
      " 'vacancy': 'JavaScript разработчик (ДИТ HR)'}\n",
      "{'_id': ObjectId('5d5fb8027928b25c7393b912'),\n",
      " 'currency': 'руб.',\n",
      " 'employer': 'ООО 5Вижинс',\n",
      " 'link': 'https://hh.ru/vacancy/31066860',\n",
      " 'max_salary': nan,\n",
      " 'min_salary': 300000,\n",
      " 'site': 'hh',\n",
      " 'snippet': 'Опыт работы от 3 лет. Знание языка программирования Swift и среды '\n",
      "            'разработки Xcode. Здание стандартных фреймворков и SDK. ',\n",
      " 'vacancy': 'Ведущий IOS программист'}\n"
     ]
    }
   ],
   "source": [
    "filter_salary(docs, salary=200000)"
   ]
  },
  {
   "cell_type": "markdown",
   "metadata": {},
   "source": [
    "Выведем из датафрейма вакансии с минимаьной зарплатой более 200 т.р. для проверки:"
   ]
  },
  {
   "cell_type": "code",
   "execution_count": 18,
   "metadata": {},
   "outputs": [
    {
     "data": {
      "text/html": [
       "<div>\n",
       "<style scoped>\n",
       "    .dataframe tbody tr th:only-of-type {\n",
       "        vertical-align: middle;\n",
       "    }\n",
       "\n",
       "    .dataframe tbody tr th {\n",
       "        vertical-align: top;\n",
       "    }\n",
       "\n",
       "    .dataframe thead th {\n",
       "        text-align: right;\n",
       "    }\n",
       "</style>\n",
       "<table border=\"1\" class=\"dataframe\">\n",
       "  <thead>\n",
       "    <tr style=\"text-align: right;\">\n",
       "      <th></th>\n",
       "      <th>vacancy</th>\n",
       "      <th>snippet</th>\n",
       "      <th>min_salary</th>\n",
       "      <th>max_salary</th>\n",
       "      <th>currency</th>\n",
       "      <th>employer</th>\n",
       "      <th>site</th>\n",
       "      <th>link</th>\n",
       "    </tr>\n",
       "  </thead>\n",
       "  <tbody>\n",
       "    <tr>\n",
       "      <th>12</th>\n",
       "      <td>Senior Front-end Developer (JavaScript, React)</td>\n",
       "      <td>Очень хорошо знает JavaScript и React. Понимае...</td>\n",
       "      <td>200000</td>\n",
       "      <td>NaN</td>\n",
       "      <td>руб.</td>\n",
       "      <td>HeadHunter::Технический департамент</td>\n",
       "      <td>hh</td>\n",
       "      <td>https://hh.ru/vacancy/32144172</td>\n",
       "    </tr>\n",
       "    <tr>\n",
       "      <th>21</th>\n",
       "      <td>Senior java developer</td>\n",
       "      <td>Хорошее владение Java и опыт объектно-ориентир...</td>\n",
       "      <td>200000</td>\n",
       "      <td>NaN</td>\n",
       "      <td>руб.</td>\n",
       "      <td>HeadHunter::Технический департамент</td>\n",
       "      <td>hh</td>\n",
       "      <td>https://hh.ru/vacancy/32893126</td>\n",
       "    </tr>\n",
       "    <tr>\n",
       "      <th>23</th>\n",
       "      <td>Senior Software Developer (new product for QA)</td>\n",
       "      <td>...interests if you: Want to develop in Kotlin...</td>\n",
       "      <td>200000</td>\n",
       "      <td>NaN</td>\n",
       "      <td>руб.</td>\n",
       "      <td>JetBrains</td>\n",
       "      <td>hh</td>\n",
       "      <td>https://hh.ru/vacancy/31891023</td>\n",
       "    </tr>\n",
       "    <tr>\n",
       "      <th>44</th>\n",
       "      <td>Старший программист-разработчик PHP</td>\n",
       "      <td>Отличное знание MySQL на уровне разработчика. ...</td>\n",
       "      <td>200000</td>\n",
       "      <td>200000</td>\n",
       "      <td>руб.</td>\n",
       "      <td>ООО Матрас.ру</td>\n",
       "      <td>hh</td>\n",
       "      <td>https://hh.ru/vacancy/32946587</td>\n",
       "    </tr>\n",
       "    <tr>\n",
       "      <th>50</th>\n",
       "      <td>Backend разработчик Java (ДИТ HR)</td>\n",
       "      <td>Опыт от 2-х лет разработки систем с трудозатра...</td>\n",
       "      <td>230000</td>\n",
       "      <td>NaN</td>\n",
       "      <td>руб.</td>\n",
       "      <td>Сбербанк для экспертов</td>\n",
       "      <td>hh</td>\n",
       "      <td>https://hh.ru/vacancy/32377870</td>\n",
       "    </tr>\n",
       "    <tr>\n",
       "      <th>52</th>\n",
       "      <td>JavaScript разработчик (ДИТ HR)</td>\n",
       "      <td>JS на продвинутом уровне: closures, lexical en...</td>\n",
       "      <td>230000</td>\n",
       "      <td>NaN</td>\n",
       "      <td>руб.</td>\n",
       "      <td>Сбербанк для экспертов</td>\n",
       "      <td>hh</td>\n",
       "      <td>https://hh.ru/vacancy/32379189</td>\n",
       "    </tr>\n",
       "    <tr>\n",
       "      <th>103</th>\n",
       "      <td>Ведущий IOS программист</td>\n",
       "      <td>Опыт работы от 3 лет. Знание языка программиро...</td>\n",
       "      <td>300000</td>\n",
       "      <td>NaN</td>\n",
       "      <td>руб.</td>\n",
       "      <td>ООО 5Вижинс</td>\n",
       "      <td>hh</td>\n",
       "      <td>https://hh.ru/vacancy/31066860</td>\n",
       "    </tr>\n",
       "  </tbody>\n",
       "</table>\n",
       "</div>"
      ],
      "text/plain": [
       "                                            vacancy  \\\n",
       "12   Senior Front-end Developer (JavaScript, React)   \n",
       "21                            Senior java developer   \n",
       "23   Senior Software Developer (new product for QA)   \n",
       "44              Старший программист-разработчик PHP   \n",
       "50                Backend разработчик Java (ДИТ HR)   \n",
       "52                  JavaScript разработчик (ДИТ HR)   \n",
       "103                         Ведущий IOS программист   \n",
       "\n",
       "                                               snippet min_salary max_salary  \\\n",
       "12   Очень хорошо знает JavaScript и React. Понимае...     200000        NaN   \n",
       "21   Хорошее владение Java и опыт объектно-ориентир...     200000        NaN   \n",
       "23   ...interests if you: Want to develop in Kotlin...     200000        NaN   \n",
       "44   Отличное знание MySQL на уровне разработчика. ...     200000     200000   \n",
       "50   Опыт от 2-х лет разработки систем с трудозатра...     230000        NaN   \n",
       "52   JS на продвинутом уровне: closures, lexical en...     230000        NaN   \n",
       "103  Опыт работы от 3 лет. Знание языка программиро...     300000        NaN   \n",
       "\n",
       "    currency                              employer site  \\\n",
       "12      руб.   HeadHunter::Технический департамент   hh   \n",
       "21      руб.   HeadHunter::Технический департамент   hh   \n",
       "23      руб.                             JetBrains   hh   \n",
       "44      руб.                         ООО Матрас.ру   hh   \n",
       "50      руб.                Сбербанк для экспертов   hh   \n",
       "52      руб.                Сбербанк для экспертов   hh   \n",
       "103     руб.                           ООО 5Вижинс   hh   \n",
       "\n",
       "                               link  \n",
       "12   https://hh.ru/vacancy/32144172  \n",
       "21   https://hh.ru/vacancy/32893126  \n",
       "23   https://hh.ru/vacancy/31891023  \n",
       "44   https://hh.ru/vacancy/32946587  \n",
       "50   https://hh.ru/vacancy/32377870  \n",
       "52   https://hh.ru/vacancy/32379189  \n",
       "103  https://hh.ru/vacancy/31066860  "
      ]
     },
     "execution_count": 18,
     "metadata": {},
     "output_type": "execute_result"
    }
   ],
   "source": [
    "df[df['min_salary'] >= 200000] "
   ]
  },
  {
   "cell_type": "markdown",
   "metadata": {},
   "source": [
    " "
   ]
  }
 ],
 "metadata": {
  "kernelspec": {
   "display_name": "Python 3",
   "language": "python",
   "name": "python3"
  },
  "language_info": {
   "codemirror_mode": {
    "name": "ipython",
    "version": 3
   },
   "file_extension": ".py",
   "mimetype": "text/x-python",
   "name": "python",
   "nbconvert_exporter": "python",
   "pygments_lexer": "ipython3",
   "version": "3.6.5"
  }
 },
 "nbformat": 4,
 "nbformat_minor": 2
}
